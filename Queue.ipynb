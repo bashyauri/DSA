{
 "cells": [
  {
   "cell_type": "code",
   "execution_count": 33,
   "metadata": {},
   "outputs": [],
   "source": [
    "#create a queue using an array without size limit\n",
    "class Queue:\n",
    "    def __init__(self):\n",
    "        self.items = []\n",
    "    def __str__(self):\n",
    "       value = [str(x) for x in self.items]\n",
    "       return ' '.join(value)\n",
    "    def isEmpty(self):\n",
    "        if self.items == []:\n",
    "            return True\n",
    "        return False\n",
    "    def enqueue(self,value):\n",
    "        self.items.append(value)\n",
    "        return \"Element is inserted at the end of the Queue\"\n",
    "    def dequeue(self):\n",
    "        if self.isEmpty():\n",
    "            return \"The List is Empty\"\n",
    "        value_to_dequeue = self.items[0]\n",
    "        self.items.pop(0)\n",
    "        return value_to_dequeue\n",
    "    def peek(self):\n",
    "        if self.isEmpty():\n",
    "            return \"The List is Empty\"\n",
    "        return self.items[0]\n",
    "    \n",
    "    def delete(self):\n",
    "        self.items = []\n",
    "        \n",
    "         \n",
    "    \n",
    "        "
   ]
  },
  {
   "cell_type": "markdown",
   "metadata": {},
   "source": []
  },
  {
   "cell_type": "code",
   "execution_count": 36,
   "metadata": {},
   "outputs": [
    {
     "name": "stdout",
     "output_type": "stream",
     "text": [
      "\n"
     ]
    },
    {
     "data": {
      "text/plain": [
       "True"
      ]
     },
     "execution_count": 36,
     "metadata": {},
     "output_type": "execute_result"
    }
   ],
   "source": [
    "queue = Queue()\n",
    "queue.enqueue(1)\n",
    "queue.enqueue(2)\n",
    "queue.enqueue(3)\n",
    "\n",
    "queue.delete()\n",
    "print(queue)\n",
    "queue.isEmpty()"
   ]
  },
  {
   "cell_type": "code",
   "execution_count": 83,
   "metadata": {},
   "outputs": [],
   "source": [
    "# Create a queue using LinkedList\n",
    "class Node:\n",
    "    def __init__(self,value):\n",
    "        self.value = value\n",
    "        self.next = None\n",
    "        "
   ]
  },
  {
   "cell_type": "code",
   "execution_count": 104,
   "metadata": {},
   "outputs": [],
   "source": [
    "class QueueLinkedList:\n",
    "    def __init__(self):\n",
    "        self.head = None\n",
    "        self.tail = None\n",
    "        self.size = 0\n",
    "    def traverse(self):\n",
    "        current_node = self.head\n",
    "        \n",
    "        while current_node:\n",
    "            print(current_node.value,end = \" \")\n",
    "            current_node = current_node.next\n",
    "            self.size = self.size + 1\n",
    "            \n",
    "            \n",
    "    def is_empty(self):\n",
    "        if self.size == 0:\n",
    "            return True\n",
    "        return False\n",
    "    def enqueue(self,value):\n",
    "        current_node = Node(value)\n",
    "        if self.is_empty():\n",
    "            self.head = current_node\n",
    "            self.tail = current_node\n",
    "        else:\n",
    "            self.tail.next = current_node\n",
    "            self.tail = current_node\n",
    "        self.size = self.size + 1\n",
    "        return current_node.value\n",
    "    def dequeue(self):\n",
    "        if self.is_empty():\n",
    "            return \"The Linked List is Empty\"\n",
    "        node_to_remove = self.head\n",
    "        if self.size == 1:\n",
    "            self.head = None\n",
    "            self.tail = None\n",
    "        else:\n",
    "            self.head = self.head.next\n",
    "        self.size = self.size - 1\n",
    "        return node_to_remove.value\n",
    "    def peek(self):\n",
    "        if self.is_empty():\n",
    "            return \"The Linked List is Empty\"\n",
    "        return self.head.value\n",
    "    def delete(self):\n",
    "        self.head = None\n",
    "        self.tail = None\n",
    "        \n",
    "        "
   ]
  },
  {
   "cell_type": "code",
   "execution_count": 103,
   "metadata": {},
   "outputs": [
    {
     "name": "stdout",
     "output_type": "stream",
     "text": [
      "2 3 "
     ]
    },
    {
     "data": {
      "text/plain": [
       "2"
      ]
     },
     "execution_count": 103,
     "metadata": {},
     "output_type": "execute_result"
    }
   ],
   "source": [
    "queue = QueueLinkedList()\n",
    "queue.is_empty() \n",
    "queue.enqueue(1)\n",
    "queue.enqueue(2)\n",
    "queue.enqueue(3)\n",
    "queue.dequeue()\n",
    "queue.traverse()\n",
    "queue.peek()\n",
    "queue.delete()\n",
    "queue.traverse()\n",
    "\n"
   ]
  },
  {
   "cell_type": "code",
   "execution_count": null,
   "metadata": {},
   "outputs": [],
   "source": []
  }
 ],
 "metadata": {
  "kernelspec": {
   "display_name": "base",
   "language": "python",
   "name": "python3"
  },
  "language_info": {
   "codemirror_mode": {
    "name": "ipython",
    "version": 3
   },
   "file_extension": ".py",
   "mimetype": "text/x-python",
   "name": "python",
   "nbconvert_exporter": "python",
   "pygments_lexer": "ipython3",
   "version": "3.9.10"
  },
  "orig_nbformat": 4
 },
 "nbformat": 4,
 "nbformat_minor": 2
}
