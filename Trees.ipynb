{
 "cells": [
  {
   "cell_type": "code",
   "execution_count": 52,
   "metadata": {},
   "outputs": [],
   "source": [
    "# Node\n",
    "class Node: \n",
    "    def __init__(self,value):\n",
    "        self.value = value\n",
    "        self.left = None\n",
    "        self.right = None\n"
   ]
  },
  {
   "cell_type": "code",
   "execution_count": 65,
   "metadata": {},
   "outputs": [],
   "source": [
    "# Binary Search Tree\n",
    "class BinarySearchTree:\n",
    "    def __init__(self):\n",
    "        self.root = None\n",
    "    def insert(self,value):\n",
    "        new_node = Node(value)\n",
    "        if self.root is None:\n",
    "            self.root = new_node\n",
    "            return True\n",
    "        else:\n",
    "            current_node = self.root\n",
    "            while True:\n",
    "                if value == current_node.value:\n",
    "                    return False\n",
    "                if value < current_node.value:\n",
    "                    if current_node.left is None:\n",
    "                        current_node.left = new_node\n",
    "                        return True\n",
    "                    else:\n",
    "                        current_node = current_node.left\n",
    "                elif value > current_node.value:\n",
    "                    if current_node.right is None:\n",
    "                        current_node.right = new_node\n",
    "                        return True\n",
    "                    else:\n",
    "                        current_node = current_node.right\n",
    "    def find(self,value):\n",
    "        if self.root is None:\n",
    "            return False\n",
    "        current_node = self.root\n",
    "        while value != current_node.value:\n",
    "            if value < current_node.value:\n",
    "                if current_node.left:\n",
    "                    current_node = current_node.left\n",
    "                else:\n",
    "                    return False\n",
    "            elif value > current_node.value:\n",
    "                if current_node.right:\n",
    "                    current_node = current_node.right\n",
    "                else:\n",
    "                    return False\n",
    "        return current_node.value\n",
    "        \n",
    "                \n",
    "        \n",
    "                        \n",
    "\n",
    "                    \n",
    "            \n",
    "            \n",
    "    "
   ]
  },
  {
   "cell_type": "code",
   "execution_count": 66,
   "metadata": {},
   "outputs": [
    {
     "data": {
      "text/plain": [
       "True"
      ]
     },
     "execution_count": 66,
     "metadata": {},
     "output_type": "execute_result"
    }
   ],
   "source": [
    "bst = BinarySearchTree()\n",
    "bst.insert(10)\n",
    "bst.insert(2)\n",
    "bst.insert(1)\n",
    "bst.insert(13)"
   ]
  },
  {
   "cell_type": "code",
   "execution_count": 70,
   "metadata": {},
   "outputs": [
    {
     "data": {
      "text/plain": [
       "2"
      ]
     },
     "execution_count": 70,
     "metadata": {},
     "output_type": "execute_result"
    }
   ],
   "source": [
    "bst.find(2)"
   ]
  },
  {
   "cell_type": "code",
   "execution_count": null,
   "metadata": {},
   "outputs": [],
   "source": []
  }
 ],
 "metadata": {
  "kernelspec": {
   "display_name": "Python 3",
   "language": "python",
   "name": "python3"
  },
  "language_info": {
   "codemirror_mode": {
    "name": "ipython",
    "version": 3
   },
   "file_extension": ".py",
   "mimetype": "text/x-python",
   "name": "python",
   "nbconvert_exporter": "python",
   "pygments_lexer": "ipython3",
   "version": "3.9.10"
  },
  "orig_nbformat": 4
 },
 "nbformat": 4,
 "nbformat_minor": 2
}
