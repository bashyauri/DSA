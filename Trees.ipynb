{
 "cells": [
  {
   "cell_type": "code",
   "execution_count": 16,
   "metadata": {},
   "outputs": [],
   "source": [
    "# Node\n",
    "class Node: \n",
    "    def __init__(self,value):\n",
    "        self.value = value\n",
    "        self.left = None\n",
    "        self.right = None\n"
   ]
  },
  {
   "cell_type": "code",
   "execution_count": 34,
   "metadata": {},
   "outputs": [],
   "source": [
    "# Binary Search Tree\n",
    "from Queue import Queue as q\n",
    "class BinarySearchTree:\n",
    "    def __init__(self):\n",
    "        self.root = None\n",
    "    def insert(self,value):\n",
    "        new_node = Node(value)\n",
    "        if self.root is None:\n",
    "            self.root = new_node\n",
    "            return True\n",
    "        else:\n",
    "            current_node = self.root\n",
    "            while True:\n",
    "                if value == current_node.value:\n",
    "                    return False\n",
    "                if value < current_node.value:\n",
    "                    if current_node.left is None:\n",
    "                        current_node.left = new_node\n",
    "                        return True\n",
    "                    else:\n",
    "                        current_node = current_node.left\n",
    "                elif value > current_node.value:\n",
    "                    if current_node.right is None:\n",
    "                        current_node.right = new_node\n",
    "                        return True\n",
    "                    else:\n",
    "                        current_node = current_node.right\n",
    "    def find(self,value):\n",
    "        if self.root is None:\n",
    "            return False\n",
    "        current_node = self.root\n",
    "        while value != current_node.value:\n",
    "            if value < current_node.value:\n",
    "                if current_node.left:\n",
    "                    current_node = current_node.left\n",
    "                else:\n",
    "                    return False\n",
    "            elif value > current_node.value:\n",
    "                if current_node.right:\n",
    "                    current_node = current_node.right\n",
    "                else:\n",
    "                    return False\n",
    "        return current_node.value\n",
    "    # Tree Travesals\n",
    "    def bfs(self):\n",
    "        new_node = self.root\n",
    "        queue = []\n",
    "        list_of_nodes = []\n",
    "        queue.append(new_node)\n",
    "        while len(queue) > 0:\n",
    "            new_node = queue.pop(0)\n",
    "            list_of_nodes.append(new_node.value)\n",
    "            if new_node.left:\n",
    "                queue.append(new_node.left)\n",
    "            if new_node.right:\n",
    "                queue.append(new_node.right)\n",
    "        return list_of_nodes\n",
    "    def dfsPreOrder(self):\n",
    "        list_of_nodes = []\n",
    "        current_node = self.root\n",
    "    \n",
    "                \n",
    "        \n",
    "                        \n",
    "\n",
    "                    \n",
    "            \n",
    "            \n",
    "    "
   ]
  },
  {
   "cell_type": "code",
   "execution_count": 35,
   "metadata": {},
   "outputs": [
    {
     "data": {
      "text/plain": [
       "True"
      ]
     },
     "execution_count": 35,
     "metadata": {},
     "output_type": "execute_result"
    }
   ],
   "source": [
    "bst = BinarySearchTree()\n",
    "bst.insert(10)\n",
    "bst.insert(6)\n",
    "bst.insert(15)\n",
    "bst.insert(3)\n",
    "bst.insert(8)\n",
    "bst.insert(20)"
   ]
  },
  {
   "cell_type": "code",
   "execution_count": 36,
   "metadata": {},
   "outputs": [
    {
     "data": {
      "text/plain": [
       "[10, 6, 15, 3, 8, 20]"
      ]
     },
     "execution_count": 36,
     "metadata": {},
     "output_type": "execute_result"
    }
   ],
   "source": [
    "bst.bfs()"
   ]
  },
  {
   "cell_type": "code",
   "execution_count": 7,
   "metadata": {},
   "outputs": [
    {
     "ename": "SyntaxError",
     "evalue": "invalid syntax (391304191.py, line 1)",
     "output_type": "error",
     "traceback": [
      "\u001b[1;36m  Cell \u001b[1;32mIn [7], line 1\u001b[1;36m\u001b[0m\n\u001b[1;33m    Queue.ipynb import Queue\u001b[0m\n\u001b[1;37m                ^\u001b[0m\n\u001b[1;31mSyntaxError\u001b[0m\u001b[1;31m:\u001b[0m invalid syntax\n"
     ]
    }
   ],
   "source": [
    "\n",
    "\n",
    "        \n",
    "    \n"
   ]
  },
  {
   "cell_type": "code",
   "execution_count": null,
   "metadata": {},
   "outputs": [],
   "source": []
  }
 ],
 "metadata": {
  "kernelspec": {
   "display_name": "Python 3",
   "language": "python",
   "name": "python3"
  },
  "language_info": {
   "codemirror_mode": {
    "name": "ipython",
    "version": 3
   },
   "file_extension": ".py",
   "mimetype": "text/x-python",
   "name": "python",
   "nbconvert_exporter": "python",
   "pygments_lexer": "ipython3",
   "version": "3.9.10"
  },
  "orig_nbformat": 4
 },
 "nbformat": 4,
 "nbformat_minor": 2
}
