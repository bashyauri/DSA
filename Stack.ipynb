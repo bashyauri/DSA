{
 "cells": [
  {
   "cell_type": "markdown",
   "metadata": {},
   "source": [
    "# Create Node"
   ]
  },
  {
   "cell_type": "code",
   "execution_count": 27,
   "metadata": {},
   "outputs": [],
   "source": [
    "class Node:\n",
    "    def __init__(self,value):\n",
    "        self.value = value\n",
    "        self.next = None\n",
    "        "
   ]
  },
  {
   "cell_type": "markdown",
   "metadata": {},
   "source": [
    "## Create Stack"
   ]
  },
  {
   "cell_type": "code",
   "execution_count": 48,
   "metadata": {},
   "outputs": [],
   "source": [
    "class Stack:\n",
    "    def __init__(self):\n",
    "        self.first = None\n",
    "        self.last = None\n",
    "        self.size = 0\n",
    "    def push(self,value):\n",
    "        new_node = Node(value)\n",
    "        if self.size == 0:\n",
    "            self.first = new_node\n",
    "            self.last = new_node\n",
    "        else:\n",
    "            temp_node = self.first\n",
    "            new_node.next = temp_node\n",
    "            self.first = new_node\n",
    "        self.size = self.size + 1\n",
    "        return self.size\n",
    "    def pop(self):\n",
    "        if self.size == 0:\n",
    "            return False\n",
    "        node_to_remove = self.first\n",
    "        if self.size == 1:\n",
    "            self.first = None\n",
    "            self.last = None\n",
    "        else:\n",
    "            next_node = self.first.next\n",
    "            self.first = next_node\n",
    "        self.size = self.size - 1\n",
    "        return node_to_remove.value\n",
    "            \n",
    "            \n",
    "    def traverse(self):\n",
    "        new_node = self.first\n",
    "        for _ in range(self.size):\n",
    "            print(new_node.value,end=\"->\")\n",
    "            new_node = new_node.next"
   ]
  },
  {
   "cell_type": "code",
   "execution_count": 57,
   "metadata": {},
   "outputs": [
    {
     "name": "stdout",
     "output_type": "stream",
     "text": [
      "5->"
     ]
    }
   ],
   "source": [
    "stack = Stack()\n",
    "stack.push(5)\n",
    "stack.push(7)\n",
    "\n",
    "stack.pop()\n",
    "stack.traverse()\n",
    "\n"
   ]
  },
  {
   "cell_type": "markdown",
   "metadata": {},
   "source": [
    "## Create Stack Using Array"
   ]
  },
  {
   "cell_type": "code",
   "execution_count": 71,
   "metadata": {},
   "outputs": [
    {
     "name": "stdout",
     "output_type": "stream",
     "text": [
      "65"
     ]
    }
   ],
   "source": [
    "stack = []\n",
    "stack.append(5)\n",
    "stack.append(6)\n",
    "stack.append(7)\n",
    "stack.pop()\n",
    "for i in range(-1,len(stack)-1,1):\n",
    "    print(stack[i],end=\"\")\n"
   ]
  },
  {
   "cell_type": "code",
   "execution_count": null,
   "metadata": {},
   "outputs": [],
   "source": []
  }
 ],
 "metadata": {
  "kernelspec": {
   "display_name": "Python 3",
   "language": "python",
   "name": "python3"
  },
  "language_info": {
   "codemirror_mode": {
    "name": "ipython",
    "version": 3
   },
   "file_extension": ".py",
   "mimetype": "text/x-python",
   "name": "python",
   "nbconvert_exporter": "python",
   "pygments_lexer": "ipython3",
   "version": "3.9.10"
  },
  "orig_nbformat": 4
 },
 "nbformat": 4,
 "nbformat_minor": 2
}
