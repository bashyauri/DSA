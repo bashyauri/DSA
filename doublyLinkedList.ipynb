{
 "cells": [
  {
   "cell_type": "markdown",
   "metadata": {},
   "source": [
    "# Setting up the Node class"
   ]
  },
  {
   "cell_type": "code",
   "execution_count": 4,
   "metadata": {},
   "outputs": [],
   "source": [
    "class Node:\n",
    "    def __init__ (self,value) :\n",
    "        self.value = value\n",
    "        self.next = None\n",
    "        self.prev = None"
   ]
  },
  {
   "cell_type": "markdown",
   "metadata": {},
   "source": [
    "# Setting up The DoublyLinkedList"
   ]
  },
  {
   "cell_type": "code",
   "execution_count": 25,
   "metadata": {},
   "outputs": [],
   "source": [
    "class DoublyLinkedList:\n",
    "    def __init__(self):\n",
    "        self.head = None\n",
    "        self.tail = None\n",
    "        self.length = 0\n",
    "    def insert_end(self,value):\n",
    "        new_node = Node(value)\n",
    "        if self.head is None:\n",
    "            self.head = new_node\n",
    "            self.tail = new_node\n",
    "        else:\n",
    "            self.tail.next = new_node\n",
    "            new_node.prev = self.tail\n",
    "          \n",
    "            self.tail = new_node \n",
    "        self.length = self.length + 1\n",
    "        return self\n",
    "    def remove_end(self):\n",
    "        if self.head is None:\n",
    "            return False\n",
    "        last_node = self.tail\n",
    "        if last_node.prev is None:\n",
    "            self.head = None\n",
    "            self.tail = None\n",
    "        else:\n",
    "            self.tail = last_node.prev\n",
    "            self.tail.next = None\n",
    "            last_node.prev = None     \n",
    "        self.length = self.length - 1\n",
    "        return last_node.value\n",
    "    def remove_beginning(self):\n",
    "        if self.head is None:\n",
    "            return False\n",
    "        old_head = self.head\n",
    "        if self.length == 1:\n",
    "            self.head = None\n",
    "            self.tail = None\n",
    "        else:\n",
    "           \n",
    "            new_head = self.head.next\n",
    "            self.head = new_head\n",
    "            old_head.next = None\n",
    "            self.head.prev = None\n",
    "        self.length = self.length -1\n",
    "        return old_head.value\n",
    "    def traverse(self):\n",
    "        if self.head is None:\n",
    "            return False\n",
    "        if self.length == 1:\n",
    "            return self.head.value\n",
    "        current_node = self.head\n",
    "        while current_node:\n",
    "            print(current_node.value,end=\"->\")\n",
    "            current_node = current_node.next\n",
    "            \n",
    "\n",
    "            \n",
    "                \n",
    "        \n",
    "        \n",
    "        \n",
    "    "
   ]
  },
  {
   "cell_type": "markdown",
   "metadata": {},
   "source": [
    "## Test DoublyLinkedList Insert_end"
   ]
  },
  {
   "cell_type": "code",
   "execution_count": 27,
   "metadata": {},
   "outputs": [
    {
     "data": {
      "text/plain": [
       "5"
      ]
     },
     "execution_count": 27,
     "metadata": {},
     "output_type": "execute_result"
    }
   ],
   "source": [
    "doublyLinkedList = DoublyLinkedList()\n",
    "doublyLinkedList.insert_end(5)\n",
    "doublyLinkedList.insert_end(8)\n",
    "doublyLinkedList.insert_end(20)\n",
    "doublyLinkedList.remove_beginning()\n",
    "\n",
    "\n",
    "\n",
    "\n",
    "\n",
    "\n",
    "\n",
    "# print()\n",
    "# doublyLinkedList.traverse()\n"
   ]
  },
  {
   "cell_type": "code",
   "execution_count": null,
   "metadata": {},
   "outputs": [],
   "source": []
  },
  {
   "cell_type": "code",
   "execution_count": null,
   "metadata": {},
   "outputs": [],
   "source": []
  },
  {
   "cell_type": "code",
   "execution_count": null,
   "metadata": {},
   "outputs": [],
   "source": []
  }
 ],
 "metadata": {
  "kernelspec": {
   "display_name": "Python 3",
   "language": "python",
   "name": "python3"
  },
  "language_info": {
   "codemirror_mode": {
    "name": "ipython",
    "version": 3
   },
   "file_extension": ".py",
   "mimetype": "text/x-python",
   "name": "python",
   "nbconvert_exporter": "python",
   "pygments_lexer": "ipython3",
   "version": "3.9.10"
  },
  "orig_nbformat": 4
 },
 "nbformat": 4,
 "nbformat_minor": 2
}
